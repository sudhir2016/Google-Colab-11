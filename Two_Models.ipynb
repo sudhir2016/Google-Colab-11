{
  "nbformat": 4,
  "nbformat_minor": 0,
  "metadata": {
    "colab": {
      "name": "Two Models.ipynb",
      "provenance": [],
      "collapsed_sections": [],
      "mount_file_id": "12XXIc2eGrhM4ZuToZ3CVcIQUFIfeojp_",
      "authorship_tag": "ABX9TyN6ZB0xuSHam9WJ2wJtmqyG",
      "include_colab_link": true
    },
    "kernelspec": {
      "name": "python3",
      "display_name": "Python 3"
    }
  },
  "cells": [
    {
      "cell_type": "markdown",
      "metadata": {
        "id": "view-in-github",
        "colab_type": "text"
      },
      "source": [
        "<a href=\"https://colab.research.google.com/github/sudhir2016/Google-Colab-11/blob/master/Two_Models.ipynb\" target=\"_parent\"><img src=\"https://colab.research.google.com/assets/colab-badge.svg\" alt=\"Open In Colab\"/></a>"
      ]
    },
    {
      "cell_type": "code",
      "metadata": {
        "id": "B9r68TZklfZ-",
        "colab_type": "code",
        "colab": {}
      },
      "source": [
        "\n",
        "import tensorflow as tf\n",
        "from tensorflow import keras\n",
        "from tensorflow.keras.models import load_model"
      ],
      "execution_count": null,
      "outputs": []
    },
    {
      "cell_type": "code",
      "metadata": {
        "id": "TmxS9afKnJ92",
        "colab_type": "code",
        "colab": {}
      },
      "source": [
        "import numpy as np\n",
        "import matplotlib.pyplot as plt\n",
        "#import cv2"
      ],
      "execution_count": null,
      "outputs": []
    },
    {
      "cell_type": "code",
      "metadata": {
        "id": "_9oPZLjVA8z3",
        "colab_type": "code",
        "colab": {}
      },
      "source": [
        "!pip install  python-resize-image"
      ],
      "execution_count": null,
      "outputs": []
    },
    {
      "cell_type": "code",
      "metadata": {
        "id": "YGnG-qrTlDEV",
        "colab_type": "code",
        "colab": {}
      },
      "source": [
        "from PIL import Image\n",
        "from resizeimage import resizeimage"
      ],
      "execution_count": null,
      "outputs": []
    },
    {
      "cell_type": "code",
      "metadata": {
        "id": "LbjUjdVlqFBl",
        "colab_type": "code",
        "colab": {}
      },
      "source": [
        "label=[]"
      ],
      "execution_count": null,
      "outputs": []
    },
    {
      "cell_type": "code",
      "metadata": {
        "id": "cxKaVh5AqZPS",
        "colab_type": "code",
        "colab": {}
      },
      "source": [
        "for i in range (10):\n",
        "  label.append(1)"
      ],
      "execution_count": null,
      "outputs": []
    },
    {
      "cell_type": "code",
      "metadata": {
        "id": "vALVJjcUp2xM",
        "colab_type": "code",
        "colab": {}
      },
      "source": [
        "\n",
        "label[0]='Tomato___healthy'\n",
        "label[1]='Tomato___Tomato_mosaic_virus'\n",
        "label[2]='Tomato___Tomato_Yellow_Leaf_Curl_Virus'\n",
        "label[3]='Tomato___Target_Spot'\n",
        "label[4]='Tomato___Spider_mites Two-spotted_spider_mite'\n",
        "label[5]='Tomato___Septoria_leaf_spot'\n",
        "label[6]='Tomato___Leaf_Mold'\n",
        "label[7]='Tomato___Late_blight'\n",
        "label[8]='Tomato___Early_blight'\n",
        "label[9]='Tomato___Bacterial_spot'"
      ],
      "execution_count": null,
      "outputs": []
    },
    {
      "cell_type": "code",
      "metadata": {
        "id": "KaLHsygOqcJG",
        "colab_type": "code",
        "colab": {}
      },
      "source": [
        "label.sort()"
      ],
      "execution_count": null,
      "outputs": []
    },
    {
      "cell_type": "code",
      "metadata": {
        "id": "svyaplDqqq-M",
        "colab_type": "code",
        "colab": {}
      },
      "source": [
        "print(label)"
      ],
      "execution_count": null,
      "outputs": []
    },
    {
      "cell_type": "code",
      "metadata": {
        "id": "pHGA49yBorP9",
        "colab_type": "code",
        "colab": {}
      },
      "source": [
        "image1=Image.open('Tomato.jpeg')"
      ],
      "execution_count": null,
      "outputs": []
    },
    {
      "cell_type": "code",
      "metadata": {
        "id": "ae-2MZwMnC68",
        "colab_type": "code",
        "colab": {}
      },
      "source": [
        "image2=resizeimage.resize_cover(image1,[224,224])"
      ],
      "execution_count": null,
      "outputs": []
    },
    {
      "cell_type": "code",
      "metadata": {
        "id": "onloysH1j1B_",
        "colab_type": "code",
        "colab": {}
      },
      "source": [
        "plt.imshow(image1)"
      ],
      "execution_count": null,
      "outputs": []
    },
    {
      "cell_type": "code",
      "metadata": {
        "id": "voqabpxBop5B",
        "colab_type": "code",
        "colab": {}
      },
      "source": [
        "image3=np.array(image2)/255.0"
      ],
      "execution_count": null,
      "outputs": []
    },
    {
      "cell_type": "code",
      "metadata": {
        "id": "iA2uaEjlpxAR",
        "colab_type": "code",
        "colab": {}
      },
      "source": [
        "image4=np.reshape(image3,(1,224,224,3))"
      ],
      "execution_count": null,
      "outputs": []
    },
    {
      "cell_type": "code",
      "metadata": {
        "id": "yUeMTQPx1Fpq",
        "colab_type": "code",
        "colab": {}
      },
      "source": [
        "model_val=load_model('drive/My Drive/model_val.h5')"
      ],
      "execution_count": null,
      "outputs": []
    },
    {
      "cell_type": "code",
      "metadata": {
        "id": "g6kNcXo-1I9p",
        "colab_type": "code",
        "colab": {}
      },
      "source": [
        "model.summary()"
      ],
      "execution_count": null,
      "outputs": []
    },
    {
      "cell_type": "code",
      "metadata": {
        "id": "xwykpdR-mp3c",
        "colab_type": "code",
        "colab": {}
      },
      "source": [
        "p=model_val.predict(image4)"
      ],
      "execution_count": null,
      "outputs": []
    },
    {
      "cell_type": "code",
      "metadata": {
        "id": "lOhXrIgPqPYC",
        "colab_type": "code",
        "colab": {
          "base_uri": "https://localhost:8080/",
          "height": 34
        },
        "outputId": "f8e7c09a-259e-4ae1-fe7f-22212ba53807"
      },
      "source": [
        "print(p)"
      ],
      "execution_count": null,
      "outputs": [
        {
          "output_type": "stream",
          "text": [
            "[[0.6724221]]\n"
          ],
          "name": "stdout"
        }
      ]
    },
    {
      "cell_type": "code",
      "metadata": {
        "id": "OF5NL6CkoNlK",
        "colab_type": "code",
        "colab": {
          "base_uri": "https://localhost:8080/",
          "height": 34
        },
        "outputId": "2b76b3b5-89cc-45a7-ba1e-f59d0c228745"
      },
      "source": [
        "if (p>0.5):\n",
        "  model=load_model('drive/My Drive/model.h5')\n",
        "  pred=model.predict(image4)\n",
        "  m1=np.argmax(pred)\n",
        "  l1=label[m1]\n",
        "  print('prediction :',l1)\n",
        "else :\n",
        "  print ( 'indeterminate')"
      ],
      "execution_count": null,
      "outputs": [
        {
          "output_type": "stream",
          "text": [
            "prediction : Tomato___Tomato_mosaic_virus\n"
          ],
          "name": "stdout"
        }
      ]
    }
  ]
}