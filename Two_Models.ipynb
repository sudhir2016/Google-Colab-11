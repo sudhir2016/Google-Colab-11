{
  "nbformat": 4,
  "nbformat_minor": 0,
  "metadata": {
    "colab": {
      "name": "Two Models.ipynb",
      "provenance": [],
      "collapsed_sections": [],
      "mount_file_id": "12XXIc2eGrhM4ZuToZ3CVcIQUFIfeojp_",
      "authorship_tag": "ABX9TyMQNrHMKJcp5Hr+2ALbvGxb",
      "include_colab_link": true
    },
    "kernelspec": {
      "name": "python3",
      "display_name": "Python 3"
    }
  },
  "cells": [
    {
      "cell_type": "markdown",
      "metadata": {
        "id": "view-in-github",
        "colab_type": "text"
      },
      "source": [
        "<a href=\"https://colab.research.google.com/github/sudhir2016/Google-Colab-11/blob/master/Two_Models.ipynb\" target=\"_parent\"><img src=\"https://colab.research.google.com/assets/colab-badge.svg\" alt=\"Open In Colab\"/></a>"
      ]
    },
    {
      "cell_type": "code",
      "metadata": {
        "id": "B9r68TZklfZ-",
        "colab_type": "code",
        "colab": {}
      },
      "source": [
        "\n",
        "import tensorflow as tf\n",
        "from tensorflow import keras\n",
        "from tensorflow.keras.models import load_model"
      ],
      "execution_count": 1,
      "outputs": []
    },
    {
      "cell_type": "code",
      "metadata": {
        "id": "TmxS9afKnJ92",
        "colab_type": "code",
        "colab": {}
      },
      "source": [
        "import numpy as np\n",
        "import matplotlib.pyplot as plt\n",
        "#import cv2"
      ],
      "execution_count": 2,
      "outputs": []
    },
    {
      "cell_type": "code",
      "metadata": {
        "id": "_9oPZLjVA8z3",
        "colab_type": "code",
        "colab": {
          "base_uri": "https://localhost:8080/",
          "height": 207
        },
        "outputId": "8997fb10-994c-41a5-b084-baefd730ee9e"
      },
      "source": [
        "!pip install  python-resize-image"
      ],
      "execution_count": 3,
      "outputs": [
        {
          "output_type": "stream",
          "text": [
            "Collecting python-resize-image\n",
            "  Downloading https://files.pythonhosted.org/packages/bc/89/008481c95551992e1a77503eba490b75fd17c0a98e33dd4dc39e0b99e5e8/python_resize_image-1.1.19-py2.py3-none-any.whl\n",
            "Requirement already satisfied: requests>=2.19.1 in /usr/local/lib/python3.6/dist-packages (from python-resize-image) (2.23.0)\n",
            "Requirement already satisfied: Pillow>=5.1.0 in /usr/local/lib/python3.6/dist-packages (from python-resize-image) (7.0.0)\n",
            "Requirement already satisfied: idna<3,>=2.5 in /usr/local/lib/python3.6/dist-packages (from requests>=2.19.1->python-resize-image) (2.9)\n",
            "Requirement already satisfied: certifi>=2017.4.17 in /usr/local/lib/python3.6/dist-packages (from requests>=2.19.1->python-resize-image) (2020.4.5.2)\n",
            "Requirement already satisfied: urllib3!=1.25.0,!=1.25.1,<1.26,>=1.21.1 in /usr/local/lib/python3.6/dist-packages (from requests>=2.19.1->python-resize-image) (1.24.3)\n",
            "Requirement already satisfied: chardet<4,>=3.0.2 in /usr/local/lib/python3.6/dist-packages (from requests>=2.19.1->python-resize-image) (3.0.4)\n",
            "Installing collected packages: python-resize-image\n",
            "Successfully installed python-resize-image-1.1.19\n"
          ],
          "name": "stdout"
        }
      ]
    },
    {
      "cell_type": "code",
      "metadata": {
        "id": "YGnG-qrTlDEV",
        "colab_type": "code",
        "colab": {}
      },
      "source": [
        "from PIL import Image\n",
        "from resizeimage import resizeimage"
      ],
      "execution_count": 4,
      "outputs": []
    },
    {
      "cell_type": "code",
      "metadata": {
        "id": "LbjUjdVlqFBl",
        "colab_type": "code",
        "colab": {}
      },
      "source": [
        "label=[]"
      ],
      "execution_count": 31,
      "outputs": []
    },
    {
      "cell_type": "code",
      "metadata": {
        "id": "cxKaVh5AqZPS",
        "colab_type": "code",
        "colab": {}
      },
      "source": [
        "for i in range (10):\n",
        "  label.append(1)"
      ],
      "execution_count": 33,
      "outputs": []
    },
    {
      "cell_type": "code",
      "metadata": {
        "id": "vALVJjcUp2xM",
        "colab_type": "code",
        "colab": {}
      },
      "source": [
        "\n",
        "label[0]='Tomato___healthy'\n",
        "label[1]='Tomato___Tomato_mosaic_virus'\n",
        "label[2]='Tomato___Tomato_Yellow_Leaf_Curl_Virus'\n",
        "label[3]='Tomato___Target_Spot'\n",
        "label[4]='Tomato___Spider_mites Two-spotted_spider_mite'\n",
        "label[5]='Tomato___Septoria_leaf_spot'\n",
        "label[6]='Tomato___Leaf_Mold'\n",
        "label[7]='Tomato___Late_blight'\n",
        "label[8]='Tomato___Early_blight'\n",
        "label[9]='Tomato___Bacterial_spot'"
      ],
      "execution_count": 34,
      "outputs": []
    },
    {
      "cell_type": "code",
      "metadata": {
        "id": "KaLHsygOqcJG",
        "colab_type": "code",
        "colab": {}
      },
      "source": [
        "label.sort()"
      ],
      "execution_count": 35,
      "outputs": []
    },
    {
      "cell_type": "code",
      "metadata": {
        "id": "svyaplDqqq-M",
        "colab_type": "code",
        "colab": {
          "base_uri": "https://localhost:8080/",
          "height": 54
        },
        "outputId": "bce5aaa3-f736-4f36-d6c4-786cc40cd807"
      },
      "source": [
        "print(label)"
      ],
      "execution_count": 37,
      "outputs": [
        {
          "output_type": "stream",
          "text": [
            "['Tomato___Bacterial_spot', 'Tomato___Early_blight', 'Tomato___Late_blight', 'Tomato___Leaf_Mold', 'Tomato___Septoria_leaf_spot', 'Tomato___Spider_mites Two-spotted_spider_mite', 'Tomato___Target_Spot', 'Tomato___Tomato_Yellow_Leaf_Curl_Virus', 'Tomato___Tomato_mosaic_virus', 'Tomato___healthy']\n"
          ],
          "name": "stdout"
        }
      ]
    },
    {
      "cell_type": "code",
      "metadata": {
        "id": "pHGA49yBorP9",
        "colab_type": "code",
        "colab": {}
      },
      "source": [
        "image1=Image.open('Tomato.jpeg')"
      ],
      "execution_count": 15,
      "outputs": []
    },
    {
      "cell_type": "code",
      "metadata": {
        "id": "ae-2MZwMnC68",
        "colab_type": "code",
        "colab": {}
      },
      "source": [
        "image2=resizeimage.resize_cover(image1,[224,224])"
      ],
      "execution_count": 16,
      "outputs": []
    },
    {
      "cell_type": "code",
      "metadata": {
        "id": "QWLn0ugamZK8",
        "colab_type": "code",
        "colab": {}
      },
      "source": [
        "model_val=load_model('drive/My Drive/model_val.h5')"
      ],
      "execution_count": 9,
      "outputs": []
    },
    {
      "cell_type": "code",
      "metadata": {
        "id": "fiL5BvANlnuh",
        "colab_type": "code",
        "colab": {}
      },
      "source": [
        "#model=load_model('drive/My Drive/model.h5')"
      ],
      "execution_count": null,
      "outputs": []
    },
    {
      "cell_type": "code",
      "metadata": {
        "id": "igYapriwVUJR",
        "colab_type": "code",
        "colab": {}
      },
      "source": [
        "model.summary()"
      ],
      "execution_count": null,
      "outputs": []
    },
    {
      "cell_type": "code",
      "metadata": {
        "id": "6rI4ZfMom-B-",
        "colab_type": "code",
        "colab": {}
      },
      "source": [
        "#image1= plt.imread('Covid.jpeg')"
      ],
      "execution_count": null,
      "outputs": []
    },
    {
      "cell_type": "code",
      "metadata": {
        "id": "onloysH1j1B_",
        "colab_type": "code",
        "colab": {}
      },
      "source": [
        "#plt.imshow(image1)"
      ],
      "execution_count": null,
      "outputs": []
    },
    {
      "cell_type": "code",
      "metadata": {
        "id": "5TEnY8cvpk8C",
        "colab_type": "code",
        "colab": {}
      },
      "source": [
        "#image2 = cv2.resize(image1, dsize=(224,224), interpolation=cv2.INTER_CUBIC)"
      ],
      "execution_count": null,
      "outputs": []
    },
    {
      "cell_type": "code",
      "metadata": {
        "id": "voqabpxBop5B",
        "colab_type": "code",
        "colab": {}
      },
      "source": [
        "image3=np.array(image2)/255.0"
      ],
      "execution_count": 17,
      "outputs": []
    },
    {
      "cell_type": "code",
      "metadata": {
        "id": "iA2uaEjlpxAR",
        "colab_type": "code",
        "colab": {}
      },
      "source": [
        "image4=np.reshape(image3,(1,224,224,3))"
      ],
      "execution_count": 18,
      "outputs": []
    },
    {
      "cell_type": "code",
      "metadata": {
        "id": "xwykpdR-mp3c",
        "colab_type": "code",
        "colab": {}
      },
      "source": [
        "p=model_val.predict(image4)"
      ],
      "execution_count": 19,
      "outputs": []
    },
    {
      "cell_type": "code",
      "metadata": {
        "id": "lOhXrIgPqPYC",
        "colab_type": "code",
        "colab": {
          "base_uri": "https://localhost:8080/",
          "height": 34
        },
        "outputId": "f8e7c09a-259e-4ae1-fe7f-22212ba53807"
      },
      "source": [
        "print(p)"
      ],
      "execution_count": 20,
      "outputs": [
        {
          "output_type": "stream",
          "text": [
            "[[0.6724221]]\n"
          ],
          "name": "stdout"
        }
      ]
    },
    {
      "cell_type": "code",
      "metadata": {
        "id": "7O7NCPt5n7tK",
        "colab_type": "code",
        "colab": {}
      },
      "source": [
        "value=p[[0]]"
      ],
      "execution_count": 21,
      "outputs": []
    },
    {
      "cell_type": "code",
      "metadata": {
        "id": "CpSCdMXvoCX6",
        "colab_type": "code",
        "colab": {}
      },
      "source": [
        "print(value)"
      ],
      "execution_count": null,
      "outputs": []
    },
    {
      "cell_type": "code",
      "metadata": {
        "id": "OF5NL6CkoNlK",
        "colab_type": "code",
        "colab": {
          "base_uri": "https://localhost:8080/",
          "height": 34
        },
        "outputId": "2b76b3b5-89cc-45a7-ba1e-f59d0c228745"
      },
      "source": [
        "if (p>0.5):\n",
        "  model=load_model('drive/My Drive/model.h5')\n",
        "  pred=model.predict(image4)\n",
        "  m1=np.argmax(pred)\n",
        "  l1=label[m1]\n",
        "  print('prediction :',l1)\n",
        "else :\n",
        "  print ( 'indeterminate')"
      ],
      "execution_count": 36,
      "outputs": [
        {
          "output_type": "stream",
          "text": [
            "prediction : Tomato___Tomato_mosaic_virus\n"
          ],
          "name": "stdout"
        }
      ]
    }
  ]
}